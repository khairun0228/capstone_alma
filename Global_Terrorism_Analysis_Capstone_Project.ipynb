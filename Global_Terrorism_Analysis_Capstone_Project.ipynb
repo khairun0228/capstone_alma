{
  "nbformat": 4,
  "nbformat_minor": 0,
  "metadata": {
    "kernelspec": {
      "display_name": "Python 3",
      "language": "python",
      "name": "python3"
    },
    "language_info": {
      "codemirror_mode": {
        "name": "ipython",
        "version": 3
      },
      "file_extension": ".py",
      "mimetype": "text/x-python",
      "name": "python",
      "nbconvert_exporter": "python",
      "pygments_lexer": "ipython3",
      "version": "3.6.6"
    },
    "colab": {
      "name": "Copy of Copy of Global Terrorism Analysis - Capstone Project.ipynb",
      "provenance": [],
      "collapsed_sections": []
    }
  },
  "cells": [
    {
      "cell_type": "markdown",
      "metadata": {
        "id": "Y06xIdG26kRF"
      },
      "source": [
        "## <b> The Global Terrorism Database (GTD) is an open-source database including information on terrorist attacks around the world from 1970 through 2017. The GTD includes systematic data on domestic as well as international terrorist incidents that have occurred during this time period and now includes more than 180,000 attacks. The database is maintained by researchers at the National Consortium for the Study of Terrorism and Responses to Terrorism (START), headquartered at the University of Maryland.</b>\n",
        "\n",
        "# <b> Explore and analyze the data to discover key findings pertaining to terrorist activities. </b>"
      ]
    },
    {
      "cell_type": "code",
      "metadata": {
        "id": "dByMsuzT8Tnw",
        "outputId": "af15ec4c-34e1-4821-92ce-75fb32950fa2",
        "colab": {
          "base_uri": "https://localhost:8080/"
        }
      },
      "source": [
        "import pandas as pd\n",
        "import numpy as np\n",
        "import matplotlib.pyplot as plt\n",
        "\n",
        "from google.colab import drive\n",
        "drive.mount('/content/drive')\n",
        "\n",
        "\n",
        "\n"
      ],
      "execution_count": 2,
      "outputs": [
        {
          "output_type": "stream",
          "name": "stdout",
          "text": [
            "Drive already mounted at /content/drive; to attempt to forcibly remount, call drive.mount(\"/content/drive\", force_remount=True).\n"
          ]
        }
      ]
    },
    {
      "cell_type": "code",
      "source": [
        "file_path=('/content/drive/My Drive/AlmaBetter/Capstone_project/Global Terrorism Data .csv')\n",
        "\n",
        "df = pd.read_csv(file_path,encoding='ISO-8859-1')\n",
        "print(df.columns.to_list())\n",
        "print(df.shape)\n",
        "print(df.size)\n",
        "print(df.info())"
      ],
      "metadata": {
        "id": "uXZ4EI_dVz6g",
        "outputId": "e8a45fbd-bf63-4363-da4f-bdd478bd7bd3",
        "colab": {
          "base_uri": "https://localhost:8080/"
        }
      },
      "execution_count": 47,
      "outputs": [
        {
          "output_type": "stream",
          "name": "stderr",
          "text": [
            "/usr/local/lib/python3.7/dist-packages/IPython/core/interactiveshell.py:2882: DtypeWarning: Columns (4,6,31,33,61,62,63,76,79,90,92,94,96,114,115,121) have mixed types.Specify dtype option on import or set low_memory=False.\n",
            "  exec(code_obj, self.user_global_ns, self.user_ns)\n"
          ]
        },
        {
          "output_type": "stream",
          "name": "stdout",
          "text": [
            "['eventid', 'iyear', 'imonth', 'iday', 'approxdate', 'extended', 'resolution', 'country', 'country_txt', 'region', 'region_txt', 'provstate', 'city', 'latitude', 'longitude', 'specificity', 'vicinity', 'location', 'summary', 'crit1', 'crit2', 'crit3', 'doubtterr', 'alternative', 'alternative_txt', 'multiple', 'success', 'suicide', 'attacktype1', 'attacktype1_txt', 'attacktype2', 'attacktype2_txt', 'attacktype3', 'attacktype3_txt', 'targtype1', 'targtype1_txt', 'targsubtype1', 'targsubtype1_txt', 'corp1', 'target1', 'natlty1', 'natlty1_txt', 'targtype2', 'targtype2_txt', 'targsubtype2', 'targsubtype2_txt', 'corp2', 'target2', 'natlty2', 'natlty2_txt', 'targtype3', 'targtype3_txt', 'targsubtype3', 'targsubtype3_txt', 'corp3', 'target3', 'natlty3', 'natlty3_txt', 'gname', 'gsubname', 'gname2', 'gsubname2', 'gname3', 'gsubname3', 'motive', 'guncertain1', 'guncertain2', 'guncertain3', 'individual', 'nperps', 'nperpcap', 'claimed', 'claimmode', 'claimmode_txt', 'claim2', 'claimmode2', 'claimmode2_txt', 'claim3', 'claimmode3', 'claimmode3_txt', 'compclaim', 'weaptype1', 'weaptype1_txt', 'weapsubtype1', 'weapsubtype1_txt', 'weaptype2', 'weaptype2_txt', 'weapsubtype2', 'weapsubtype2_txt', 'weaptype3', 'weaptype3_txt', 'weapsubtype3', 'weapsubtype3_txt', 'weaptype4', 'weaptype4_txt', 'weapsubtype4', 'weapsubtype4_txt', 'weapdetail', 'nkill', 'nkillus', 'nkillter', 'nwound', 'nwoundus', 'nwoundte', 'property', 'propextent', 'propextent_txt', 'propvalue', 'propcomment', 'ishostkid', 'nhostkid', 'nhostkidus', 'nhours', 'ndays', 'divert', 'kidhijcountry', 'ransom', 'ransomamt', 'ransomamtus', 'ransompaid', 'ransompaidus', 'ransomnote', 'hostkidoutcome', 'hostkidoutcome_txt', 'nreleased', 'addnotes', 'scite1', 'scite2', 'scite3', 'dbsource', 'INT_LOG', 'INT_IDEO', 'INT_MISC', 'INT_ANY', 'related']\n",
            "(181691, 135)\n",
            "24528285\n",
            "<class 'pandas.core.frame.DataFrame'>\n",
            "RangeIndex: 181691 entries, 0 to 181690\n",
            "Columns: 135 entries, eventid to related\n",
            "dtypes: float64(55), int64(22), object(58)\n",
            "memory usage: 187.1+ MB\n",
            "None\n"
          ]
        }
      ]
    },
    {
      "cell_type": "code",
      "source": [
        "#converting column names\n",
        "df= df.rename(columns={'iyear':'year', 'imonth':'month','iday':'day','region_txt':'region_name','country_txt':'country_name','attacktype1_txt':'attacktype','weaptype1_txt':'weapon_name','targtype1_txt':'targtype'})\n",
        "print(df.columns.to_list())"
      ],
      "metadata": {
        "colab": {
          "base_uri": "https://localhost:8080/"
        },
        "id": "xw-t2J4yFsw5",
        "outputId": "380c7873-13e2-42f0-eb40-c1ac7ad5dc34"
      },
      "execution_count": 49,
      "outputs": [
        {
          "output_type": "stream",
          "name": "stdout",
          "text": [
            "['eventid', 'year', 'month', 'day', 'approxdate', 'extended', 'resolution', 'country', 'country_name', 'region', 'region_name', 'provstate', 'city', 'latitude', 'longitude', 'specificity', 'vicinity', 'location', 'summary', 'crit1', 'crit2', 'crit3', 'doubtterr', 'alternative', 'alternative_txt', 'multiple', 'success', 'suicide', 'attacktype1', 'attacktype', 'attacktype2', 'attacktype2_txt', 'attacktype3', 'attacktype3_txt', 'targtype1', 'targtype', 'targsubtype1', 'targsubtype1_txt', 'corp1', 'target1', 'natlty1', 'natlty1_txt', 'targtype2', 'targtype2_txt', 'targsubtype2', 'targsubtype2_txt', 'corp2', 'target2', 'natlty2', 'natlty2_txt', 'targtype3', 'targtype3_txt', 'targsubtype3', 'targsubtype3_txt', 'corp3', 'target3', 'natlty3', 'natlty3_txt', 'gname', 'gsubname', 'gname2', 'gsubname2', 'gname3', 'gsubname3', 'motive', 'guncertain1', 'guncertain2', 'guncertain3', 'individual', 'nperps', 'nperpcap', 'claimed', 'claimmode', 'claimmode_txt', 'claim2', 'claimmode2', 'claimmode2_txt', 'claim3', 'claimmode3', 'claimmode3_txt', 'compclaim', 'weaptype1', 'weapon_name', 'weapsubtype1', 'weapsubtype1_txt', 'weaptype2', 'weaptype2_txt', 'weapsubtype2', 'weapsubtype2_txt', 'weaptype3', 'weaptype3_txt', 'weapsubtype3', 'weapsubtype3_txt', 'weaptype4', 'weaptype4_txt', 'weapsubtype4', 'weapsubtype4_txt', 'weapdetail', 'nkill', 'nkillus', 'nkillter', 'nwound', 'nwoundus', 'nwoundte', 'property', 'propextent', 'propextent_txt', 'propvalue', 'propcomment', 'ishostkid', 'nhostkid', 'nhostkidus', 'nhours', 'ndays', 'divert', 'kidhijcountry', 'ransom', 'ransomamt', 'ransomamtus', 'ransompaid', 'ransompaidus', 'ransomnote', 'hostkidoutcome', 'hostkidoutcome_txt', 'nreleased', 'addnotes', 'scite1', 'scite2', 'scite3', 'dbsource', 'INT_LOG', 'INT_IDEO', 'INT_MISC', 'INT_ANY', 'related']\n"
          ]
        }
      ]
    },
    {
      "cell_type": "code",
      "source": [
        "#No.of Global terrorist Attacks Yearwise\n",
        "Year_wise_attacks=df.groupby(['year'])['year'].count().reset_index(name='attacks_year_wise')\n",
        "print(Year_wise_attacks)\n",
        "\n"
      ],
      "metadata": {
        "colab": {
          "base_uri": "https://localhost:8080/"
        },
        "id": "_cYAHzrkIMgs",
        "outputId": "e546d9f3-c228-4e81-b331-0639dfc0b076"
      },
      "execution_count": 18,
      "outputs": [
        {
          "output_type": "stream",
          "name": "stdout",
          "text": [
            "    year  attacks_year_wise\n",
            "0   1970                651\n",
            "1   1971                471\n",
            "2   1972                568\n",
            "3   1973                473\n",
            "4   1974                581\n",
            "5   1975                740\n",
            "6   1976                923\n",
            "7   1977               1319\n",
            "8   1978               1526\n",
            "9   1979               2662\n",
            "10  1980               2662\n",
            "11  1981               2586\n",
            "12  1982               2544\n",
            "13  1983               2870\n",
            "14  1984               3495\n",
            "15  1985               2915\n",
            "16  1986               2860\n",
            "17  1987               3183\n",
            "18  1988               3721\n",
            "19  1989               4324\n",
            "20  1990               3887\n",
            "21  1991               4683\n",
            "22  1992               5071\n",
            "23  1994               3456\n",
            "24  1995               3081\n",
            "25  1996               3058\n",
            "26  1997               3197\n",
            "27  1998                934\n",
            "28  1999               1395\n",
            "29  2000               1814\n",
            "30  2001               1906\n",
            "31  2002               1333\n",
            "32  2003               1278\n",
            "33  2004               1166\n",
            "34  2005               2017\n",
            "35  2006               2758\n",
            "36  2007               3242\n",
            "37  2008               4805\n",
            "38  2009               4721\n",
            "39  2010               4826\n",
            "40  2011               5076\n",
            "41  2012               8522\n",
            "42  2013              12036\n",
            "43  2014              16903\n",
            "44  2015              14965\n",
            "45  2016              13587\n",
            "46  2017              10900\n"
          ]
        }
      ]
    },
    {
      "cell_type": "code",
      "source": [
        "#Analysis of Attacks Success /Failed\n",
        "attacks=df['year'].count()\n",
        "success_attacks=df[df['success']==1]\n",
        "\n",
        "# print(success_attacks.head(20))\n",
        "no_of_success_attacks=success_attacks['success'].count()\n",
        "\n",
        "failure_attacks=df[df['success']==0]\n",
        "\n",
        "print(failure_attacks)\n",
        "no_of_failure_attacks=failure_attacks['success'].count()\n",
        "\n",
        "\n"
      ],
      "metadata": {
        "colab": {
          "base_uri": "https://localhost:8080/"
        },
        "id": "FUnMfRsKFzi3",
        "outputId": "d4872b26-1f91-4582-d43b-490ffb971d3b"
      },
      "execution_count": 19,
      "outputs": [
        {
          "output_type": "stream",
          "name": "stdout",
          "text": [
            "             eventid  year  month  day approxdate  extended resolution  \\\n",
            "6       197001020001  1970      1    2        NaN         0        NaN   \n",
            "10      197001050001  1970      1    1        NaN         0        NaN   \n",
            "23      197001190003  1970      1   19        NaN         0        NaN   \n",
            "39      197001310001  1970      1   31        NaN         0        NaN   \n",
            "43      197002020001  1970      2    2        NaN         0        NaN   \n",
            "...              ...   ...    ...  ...        ...       ...        ...   \n",
            "181650  201712300007  2017     12   30        NaN         0        NaN   \n",
            "181674  201712310007  2017     12   31        NaN         0        NaN   \n",
            "181679  201712310012  2017     12   31        NaN         0        NaN   \n",
            "181689  201712310031  2017     12   31        NaN         0        NaN   \n",
            "181690  201712310032  2017     12   31        NaN         0        NaN   \n",
            "\n",
            "        country   country_name  region  ...  \\\n",
            "6           218        Uruguay       3  ...   \n",
            "10          217  United States       1  ...   \n",
            "23          217  United States       1  ...   \n",
            "39          160    Philippines       5  ...   \n",
            "43          217  United States       1  ...   \n",
            "...         ...            ...     ...  ...   \n",
            "181650      153       Pakistan       6  ...   \n",
            "181674       95           Iraq      10  ...   \n",
            "181679       95           Iraq      10  ...   \n",
            "181689       92          India       6  ...   \n",
            "181690      160    Philippines       5  ...   \n",
            "\n",
            "                                                 addnotes  \\\n",
            "6                                                     NaN   \n",
            "10                                                    NaN   \n",
            "23      Judith and Silas Bissell were both members of ...   \n",
            "39                                                    NaN   \n",
            "43                                                    NaN   \n",
            "...                                                   ...   \n",
            "181650                                                NaN   \n",
            "181674                                                NaN   \n",
            "181679                                                NaN   \n",
            "181689                                                NaN   \n",
            "181690                                                NaN   \n",
            "\n",
            "                                                   scite1  \\\n",
            "6                                                     NaN   \n",
            "10                                                    NaN   \n",
            "23      Committee on Government Operations United Stat...   \n",
            "39                                                    NaN   \n",
            "43      \"Alexander's Stores Survive 2 Bombs With No Da...   \n",
            "...                                                   ...   \n",
            "181650  \"Highlights: Pakistan Balochistan Press 31 Dec...   \n",
            "181674  \"Five IS militants killed as paramilitary troo...   \n",
            "181679  \"13 IS militants killed in attack on paramilit...   \n",
            "181689  \"Trader escapes grenade attack in Imphal,\" Bus...   \n",
            "181690  \"Security tightened in Cotabato following IED ...   \n",
            "\n",
            "                                                   scite2  \\\n",
            "6                                                     NaN   \n",
            "10                                                    NaN   \n",
            "23      Christopher Hewitt, \"Political Violence and Te...   \n",
            "39                                                    NaN   \n",
            "43      \"Fire Bomb is Found in Alexander Store,\" New Y...   \n",
            "...                                                   ...   \n",
            "181650                                                NaN   \n",
            "181674  \"1,262 Killed in Iraq During December,\" Antiwa...   \n",
            "181679                                                NaN   \n",
            "181689                                                NaN   \n",
            "181690  \"Security tightened in Cotabato City,\" Manila ...   \n",
            "\n",
            "                                                   scite3  \\\n",
            "6                                                     NaN   \n",
            "10                                                    NaN   \n",
            "23      Earl Caldwell, \"Fear Grows In Seattle As Polic...   \n",
            "39                                                    NaN   \n",
            "43                                                    NaN   \n",
            "...                                                   ...   \n",
            "181650                                                NaN   \n",
            "181674                                                NaN   \n",
            "181679                                                NaN   \n",
            "181689                                                NaN   \n",
            "181690                                                NaN   \n",
            "\n",
            "                        dbsource  INT_LOG  INT_IDEO INT_MISC INT_ANY  related  \n",
            "6                           PGIS        0         0        0       0      NaN  \n",
            "10                          PGIS        0         0        0       0      NaN  \n",
            "23                Hewitt Project       -9        -9        0      -9      NaN  \n",
            "39                          PGIS        0         1        1       1      NaN  \n",
            "43                Hewitt Project       -9        -9        0      -9      NaN  \n",
            "...                          ...      ...       ...      ...     ...      ...  \n",
            "181650  START Primary Collection       -9        -9        0      -9      NaN  \n",
            "181674  START Primary Collection        0         1        0       1      NaN  \n",
            "181679  START Primary Collection        0         1        0       1      NaN  \n",
            "181689  START Primary Collection       -9        -9        0      -9      NaN  \n",
            "181690  START Primary Collection       -9        -9        0      -9      NaN  \n",
            "\n",
            "[20059 rows x 135 columns]\n"
          ]
        }
      ]
    },
    {
      "cell_type": "code",
      "source": [
        "# Analysis of Attacks Success and Failed Attacks\n",
        "import pandas as pd\n",
        "loj1= pd.merge(success_attacks, failure_attacks, how='outer',left_on='year',right_on='year') \n",
        "print(loj1.shape)\n",
        "print(df.shape)\n",
        "# x=loj1[['year','attacks_year_wise','eventid','success']]\n",
        "# print(x)\n",
        "# y=failure_attacks[['year','eventid','success']]\n",
        "# print(y)\n",
        "# analysis_of_attacks=pd.merge(x, y, how='left',left_on='year',right_on='year')\n",
        "# print(analysis_of_attacks.shape)\n"
      ],
      "metadata": {
        "id": "Ru_EboRPxN6_"
      },
      "execution_count": null,
      "outputs": []
    },
    {
      "cell_type": "code",
      "source": [
        ""
      ],
      "metadata": {
        "id": "eH6YAzWb68S5"
      },
      "execution_count": null,
      "outputs": []
    },
    {
      "cell_type": "code",
      "source": [
        "print(attacks)\n",
        "print(no_of_success_attacks)\n",
        "print(no_of_failure_attacks)\n",
        "Attacks_accuracy=(no_of_success_attacks/attacks)*100\n",
        "print(Attacks_accuracy)"
      ],
      "metadata": {
        "id": "u0h2JJRec58s"
      },
      "execution_count": null,
      "outputs": []
    },
    {
      "cell_type": "markdown",
      "source": [
        "# Year_wise_attacks_top_countrys=Year_wise_attacks.sort_values.(by=\"attacks_year_wise\",ascending=False)\n",
        "Year_wise_top_attacks = Year_wise_attacks.sort_values(by='attacks_year_wise', ascending=False)\n",
        "print(Year_wise_top_attacks)"
      ],
      "metadata": {
        "id": "hRW6LPJpadT-"
      }
    },
    {
      "cell_type": "code",
      "source": [
        "max_num_attacks= Year_wise_attacks[\"attacks_year_wise\"].max()\n",
        "\n",
        "print(max_num_attacks)"
      ],
      "metadata": {
        "id": "7HHRWN96RCso"
      },
      "execution_count": null,
      "outputs": []
    },
    {
      "cell_type": "code",
      "source": [
        "#Graphical Analysis of No. of  global terrorist attack Year wise\n",
        "Year_wise_attacks.plot(x='year',y='attacks_year_wise',kind='bar',figsize=(14, 4))\n",
        "\n",
        "plt.title(\"Year wise Attacks\",fontsize=30)\n",
        "plt.xlabel(\"Year\",fontsize=20)\n",
        "plt.ylabel(\"No.of Attacks\",fontsize=20)\n",
        "plt.show()"
      ],
      "metadata": {
        "id": "ta9Z7xYgM9E6"
      },
      "execution_count": null,
      "outputs": []
    },
    {
      "cell_type": "code",
      "source": [
        "#Most Affected Countrys Year wise\n",
        "country_year_wise_attack=df.groupby(['country_name','year'])['country_name'].count().reset_index(name='no_attacks_year')\n",
        "\n",
        "print(country_year_wise_attack)"
      ],
      "metadata": {
        "id": "SaHYUJwLgk6D"
      },
      "execution_count": null,
      "outputs": []
    },
    {
      "cell_type": "code",
      "source": [
        "#Most Affected Countrys From Past Years\n",
        "attacks_in_country_wise = country_year_wise_attack.groupby(['country_name'])['no_attacks_year'].sum().reset_index(name='no_attacks_country')\n",
        "print(attacks_in_country_wise)"
      ],
      "metadata": {
        "id": "HJ5dfSrDnHoG"
      },
      "execution_count": null,
      "outputs": []
    },
    {
      "cell_type": "code",
      "source": [
        "#Most Affected Countrys From Past Years\n",
        "attacks_in_country_wise.plot(x='country_name',y='no_attacks_country',kind='bar',figsize=(18,6))\n",
        "plt.title(\"Attacks in country wise\",fontsize=30)\n",
        "plt.xlabel(\"Country Name\",fontsize=20)\n",
        "plt.ylabel(\"No.of Attacks in a country\",fontsize=20)\n",
        "plt.show()"
      ],
      "metadata": {
        "id": "2voL9KY_od9M"
      },
      "execution_count": null,
      "outputs": []
    },
    {
      "cell_type": "code",
      "source": [
        "#Top 10 Most Affected Countrys\n",
        "df2=attacks_in_country_wise.sort_values(by='no_attacks_country', ascending=False)\n",
        "most_affeted_countrys=df2.iloc[:10]\n",
        "print(most_affeted_countrys.head(10))"
      ],
      "metadata": {
        "id": "HEPDDl8YxZBT"
      },
      "execution_count": null,
      "outputs": []
    },
    {
      "cell_type": "code",
      "source": [
        "most_affeted_countrys.plot(x='country_name',y='no_attacks_country',kind='barh',figsize=(16,6))\n",
        "plt.title(\"Top 10 Affected CounQQ\")\n",
        "plt.title(\"Top 10 Affected Countrys\",fontsize=30)\n",
        "plt.xlabel(\"Country Name\",fontsize=20)\n",
        "plt.ylabel(\"No.of Attacks in a country\",fontsize=20)\n",
        "plt.show()\n"
      ],
      "metadata": {
        "id": "TCymTm8OzzKU"
      },
      "execution_count": null,
      "outputs": []
    },
    {
      "cell_type": "code",
      "source": [
        "#Most Affected Country among the global Attacks\n",
        "max_num_country_attacks= attacks_in_country_wise[attacks_in_country_wise['no_attacks_country'] == attacks_in_country_wise['no_attacks_country'].max()]\n",
        "print(max_num_country_attacks)"
      ],
      "metadata": {
        "id": "MDmb8BBfpRXd"
      },
      "execution_count": null,
      "outputs": []
    },
    {
      "cell_type": "code",
      "source": [
        "#Top10 Countrys Most Affected in past year\n",
        "#Country wise attacks descending\n",
        "country_wise_top_attacks= most_affeted_countrys.sort_values(by='no_attacks_country', ascending=False)\n",
        "print(country_wise_top_attacks)"
      ],
      "metadata": {
        "id": "Y6_yF3x-c2r0"
      },
      "execution_count": null,
      "outputs": []
    },
    {
      "cell_type": "code",
      "source": [
        "\n",
        "most_affected_states =df.groupby(['provstate'])['provstate'].count().reset_index(name='state_attacks_year') \n",
        "print(most_affected_states)"
      ],
      "metadata": {
        "id": "o4h0KBne5tXK"
      },
      "execution_count": null,
      "outputs": []
    },
    {
      "cell_type": "code",
      "source": [
        "#Top10 States Most Affected in past years\n",
        "top_affected_states=most_affected_states.iloc[0:10].sort_values(by = 'state_attacks_year',ascending= False)\n",
        "top_affected_states.rename(columns={'state_attacks_year':'state_attacks_year_s'})\n",
        "print(top_affected_states)"
      ],
      "metadata": {
        "id": "Q5LMzDp98kJN"
      },
      "execution_count": null,
      "outputs": []
    },
    {
      "cell_type": "code",
      "source": [
        "top_affected_states.plot(x='provstate',y='state_attacks_year',kind='bar',figsize=(16,6))\n",
        "plt.title(\"Top10 States Most Affected in past years\",fontsize=30)\n",
        "plt.xlabel(\"State Name\",fontsize=20)\n",
        "plt.ylabel(\"No.of Attacks in a State\",fontsize=20)\n",
        "plt.show()"
      ],
      "metadata": {
        "id": "YNKDz--ZXVG3"
      },
      "execution_count": null,
      "outputs": []
    },
    {
      "cell_type": "code",
      "source": [
        "# top 10 cities of the mostnq Attacked in Past Years\n",
        "\n",
        "most_affected_city = df['city'].value_counts().reset_index(name='attacks_city_wise')\n",
        "most_affected_cities=most_affected_city.rename(columns={'index':'cityname'}).sort_values(by='attacks_city_wise',ascending= False)\n",
        "print(most_affected_cities)"
      ],
      "metadata": {
        "id": "_g0LRr3geC4D"
      },
      "execution_count": null,
      "outputs": []
    },
    {
      "cell_type": "code",
      "source": [
        "#Top 10 Most Affected Cities\n",
        "highly_most_affected_cities=most_affected_cities.iloc[0:10]\n",
        "print(highly_most_affected_cities)"
      ],
      "metadata": {
        "id": "VK4sjK46RNtn"
      },
      "execution_count": null,
      "outputs": []
    },
    {
      "cell_type": "code",
      "source": [
        "highly_most_affected_cities.plot(x='cityname',y='attacks_city_wise',kind='bar',figsize=(16,6))\n",
        "plt.title(\"Top10 Cities Most Affected in past years\",fontsize=30)\n",
        "plt.xlabel(\"City Name\",fontsize=20)\n",
        "plt.ylabel(\"No.of Attacks in a City\",fontsize=20)\n",
        "plt.show()"
      ],
      "metadata": {
        "id": "bmYFfD4qRmts"
      },
      "execution_count": null,
      "outputs": []
    },
    {
      "cell_type": "code",
      "source": [
        "#no.of Persons killed in the attacks Year Wise\n",
        "no_killed_attacks=df.groupby('year', as_index=False).agg({\"nkill\": \"sum\"})\n",
        "print(no_killed_attacks)"
      ],
      "metadata": {
        "id": "g488FgCBWbhP"
      },
      "execution_count": null,
      "outputs": []
    },
    {
      "cell_type": "code",
      "source": [
        ""
      ],
      "metadata": {
        "id": "5FzMoDeXSOio"
      },
      "execution_count": null,
      "outputs": []
    },
    {
      "cell_type": "code",
      "source": [
        "no_killed_attacks.plot(x='year',y='nkill',kind='bar',figsize=(16,6))\n",
        "plt.title(\"No.of Persons killed in Attacks\",fontsize=30)\n",
        "plt.xlabel(\"Year\",fontsize=20)\n",
        "plt.ylabel(\"No.of Persons Killed\",fontsize=20)\n",
        "plt.show()"
      ],
      "metadata": {
        "id": "tpdrU1fqBLwS"
      },
      "execution_count": null,
      "outputs": []
    },
    {
      "cell_type": "code",
      "source": [
        "#AttackType\n",
        "attack_type= df.groupby(['attacktype'])['attacktype'].count().reset_index(name='num_attacks')\n",
        "# attack_type=df.groupby(['attacktype','year'])['attacktype'].count().reset_index(name='no_attacks_year')\n",
        "print(attack_type)"
      ],
      "metadata": {
        "id": "Tq_YnKHpNP66"
      },
      "execution_count": null,
      "outputs": []
    },
    {
      "cell_type": "code",
      "source": [
        "attack_type.plot(x='attacktype',y='num_attacks',kind='bar',figsize=(16,6))\n",
        "plt.title(\"Attack Types\",fontsize=30)\n",
        "plt.xlabel(\"attacktype\",fontsize=20)\n",
        "plt.ylabel(\"num_attacks\",fontsize=20)\n",
        "plt.show()"
      ],
      "metadata": {
        "id": "15y_BbHeVnb7"
      },
      "execution_count": null,
      "outputs": []
    },
    {
      "cell_type": "code",
      "source": [
        "#Most Used Weapons\n",
        "most_used_weapons= df.groupby(['weapon_name'])['weapon_name'].count().reset_index(name='no_times_used_weapons')\n",
        "# attack_type= df.groupby(['attacktype'])['attacktype'].count().reset_index(name='num_attacks')\n",
        "print(most_used_weapons)"
      ],
      "metadata": {
        "id": "AwmkMzs3WQRS"
      },
      "execution_count": null,
      "outputs": []
    },
    {
      "cell_type": "code",
      "source": [
        "most_used_weapons.plot(x='weapon_name',y='no_times_used_weapons',kind='bar',figsize=(16,6))\n",
        "plt.title(\"Most Used Weapons\",fontsize=30)\n",
        "plt.xlabel(\"Weapon Names  \",fontsize=20)\n",
        "plt.ylabel(\"No.of Times Used Weapons\",fontsize=20)\n",
        "plt.show()"
      ],
      "metadata": {
        "id": "RumzZCb6ZR_5"
      },
      "execution_count": null,
      "outputs": []
    },
    {
      "cell_type": "code",
      "source": [
        "#Terrorist Groups\n",
        "terrorist_groups=df.groupby(['gname'])['gname'].count().reset_index(name='no_times_attacked')\n",
        "no_terrorist_groups=terrorist_groups.sort_values(by='no_times_attacked', ascending= False)\n",
        "print(no_terrorist_groups)"
      ],
      "metadata": {
        "colab": {
          "base_uri": "https://localhost:8080/"
        },
        "id": "aqLtIyXxahSq",
        "outputId": "0a912705-f74f-443f-93c9-074fba892fe8"
      },
      "execution_count": 23,
      "outputs": [
        {
          "output_type": "stream",
          "name": "stdout",
          "text": [
            "                                                 gname  no_times_attacked\n",
            "3408                                           Unknown              82782\n",
            "3138                                           Taliban               7478\n",
            "1535       Islamic State of Iraq and the Levant (ISIL)               5613\n",
            "2948                                 Shining Path (SL)               4555\n",
            "1120  Farabundo Marti National Liberation Front (FMLN)               3351\n",
            "...                                                ...                ...\n",
            "1570   Jaish al-Muhajireen wal-Ansar (Muhajireen Army)                  1\n",
            "1569                            Jaish al-Islam (Libya)                  1\n",
            "1565                               Jaish Tahkim al-Din                  1\n",
            "1564                Jaish Al-Umma (Army of the Nation)                  1\n",
            "3536             leftist guerrillas-Bolivarian militia                  1\n",
            "\n",
            "[3537 rows x 2 columns]\n"
          ]
        }
      ]
    },
    {
      "cell_type": "code",
      "source": [
        "#What Terrorist Motivates\n",
        "terrorist_motivates=df.groupby(['motive'])['year'].count().reset_index(name='no_times_motive')\n",
        "no_terrorist_motivates=terrorist_motivates.sort_values(by='no_times_motive' ,ascending=False)\n",
        "print(no_terrorist_motivates)\n",
        "print(no_terrorist_motivates['no_times_motive'].sum())"
      ],
      "metadata": {
        "colab": {
          "base_uri": "https://localhost:8080/"
        },
        "id": "ZbgBsRLVdrQC",
        "outputId": "955ce0cc-4245-468a-e6ad-e7f193924b5a"
      },
      "execution_count": 22,
      "outputs": [
        {
          "output_type": "stream",
          "name": "stdout",
          "text": [
            "                                                  motive  no_times_motive\n",
            "14279                                            Unknown            14889\n",
            "6290      The specific motive for the attack is unknown.            14430\n",
            "9128   The specific motive is unknown; however, sourc...              297\n",
            "6292     The specific motive for the attack is unknown..              148\n",
            "6277   The specific motive for the attack is unknown ...              144\n",
            "...                                                  ...              ...\n",
            "5130   The attack was carried out because the victims...                1\n",
            "5131   The attack was carried out because the victims...                1\n",
            "5132   The attack was carried out because the victims...                1\n",
            "5133   The attack was carried out because the victims...                1\n",
            "7245   The specific motive is unknown; however, Tehri...                1\n",
            "\n",
            "[14490 rows x 2 columns]\n",
            "50561\n"
          ]
        }
      ]
    },
    {
      "cell_type": "code",
      "source": [
        "#TerrorTarget Types\n",
        "TerrorTarget=df['targtype'].value_counts().reset_index(name=\"target_count\")\n",
        "TerrorTargets=TerrorTarget.rename(columns={'index':'targets_of_terror_attacks'})\n",
        "print(TerrorTargets)"
      ],
      "metadata": {
        "id": "wnnTlbgqEOhp"
      },
      "execution_count": null,
      "outputs": []
    },
    {
      "cell_type": "code",
      "source": [
        "TerrorTargets.plot(x='targets_of_terror_attacks',y='target_count',kind='bar',figsize=(16,6))\n",
        "plt.title(\"TerrorTarget Types\",fontsize=30)\n",
        "plt.xlabel(\"Targets of Terror Attacks  \",fontsize=20)\n",
        "plt.ylabel(\"Target Count\",fontsize=20)\n",
        "plt.show()"
      ],
      "metadata": {
        "id": "r_pddwFPF8sX"
      },
      "execution_count": null,
      "outputs": []
    },
    {
      "cell_type": "code",
      "source": [
        "# Weapons Used in  Attacks\n",
        "weapons_used_attacks=df.groupby(['weaptype'])['year'].count().reset_index(name='weapon_attacks')\n",
        "print(weapons_used_attacks)"
      ],
      "metadata": {
        "id": "_ciBrIhHHb5d",
        "colab": {
          "base_uri": "https://localhost:8080/"
        },
        "outputId": "b2094c5f-7e3b-401d-d7d6-6e37d18f52ec"
      },
      "execution_count": 41,
      "outputs": [
        {
          "output_type": "stream",
          "name": "stdout",
          "text": [
            "                                             weaptype  weapon_attacks\n",
            "0                                          Biological              35\n",
            "1                                            Chemical             321\n",
            "2                                          Explosives           92426\n",
            "3                                        Fake Weapons              33\n",
            "4                                            Firearms           58524\n",
            "5                                          Incendiary           11135\n",
            "6                                               Melee            3655\n",
            "7                                               Other             114\n",
            "8                                        Radiological              14\n",
            "9                                  Sabotage Equipment             141\n",
            "10                                            Unknown           15157\n",
            "11  Vehicle (not to include vehicle-borne explosiv...             136\n"
          ]
        }
      ]
    },
    {
      "cell_type": "code",
      "source": [
        ""
      ],
      "metadata": {
        "id": "0x97_WotoSsm"
      },
      "execution_count": null,
      "outputs": []
    },
    {
      "cell_type": "code",
      "source": [
        "# region_name\n",
        "region_wise_attacks=df.groupby(['region_name'])['year'].count().reset_index(name='region_attacks')\n",
        "print(region_wise_attacks)"
      ],
      "metadata": {
        "colab": {
          "base_uri": "https://localhost:8080/"
        },
        "id": "a5nljPF0iID-",
        "outputId": "730b38a7-6f9d-47f6-acfb-16d8d58543ce"
      },
      "execution_count": 50,
      "outputs": [
        {
          "output_type": "stream",
          "name": "stdout",
          "text": [
            "                    region_name  region_attacks\n",
            "0         Australasia & Oceania             282\n",
            "1   Central America & Caribbean           10344\n",
            "2                  Central Asia             563\n",
            "3                     East Asia             802\n",
            "4                Eastern Europe            5144\n",
            "5    Middle East & North Africa           50474\n",
            "6                 North America            3456\n",
            "7                 South America           18978\n",
            "8                    South Asia           44974\n",
            "9                Southeast Asia           12485\n",
            "10           Sub-Saharan Africa           17550\n",
            "11               Western Europe           16639\n"
          ]
        }
      ]
    }
  ]
}